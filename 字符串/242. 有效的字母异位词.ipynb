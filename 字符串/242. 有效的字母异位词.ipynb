{
 "cells": [
  {
   "cell_type": "markdown",
   "id": "753abac9",
   "metadata": {},
   "source": [
    "给定两个字符串 `s` 和 `t` ，编写一个函数来判断 `t` 是否是 `s` 的`字母异位词`。\n",
    "\n",
    "注意：若 `s` 和 `t` 中每个字符出现的次数都相同，则称 `s` 和 `t` 互为`字母异位词`。"
   ]
  },
  {
   "cell_type": "code",
   "execution_count": 1,
   "id": "cb2e08ab",
   "metadata": {},
   "outputs": [],
   "source": [
    "def isAnagram(s,t):\n",
    "    i = j = 0\n",
    "    ns = len(s)\n",
    "    \n",
    "    if ns != len(t):\n",
    "        return False\n",
    "    \n",
    "    while i < ns:\n",
    "        nt = len(t)\n",
    "        while j < nt:\n",
    "            if s[i] == t[j]:\n",
    "                t = t.replace(t[j],\"\",1)\n",
    "                break\n",
    "            if j == nt - 1:\n",
    "                return False\n",
    "            j += 1 \n",
    "        i += 1\n",
    "        j = 0\n",
    "    return True"
   ]
  },
  {
   "cell_type": "markdown",
   "id": "d134beaf",
   "metadata": {},
   "source": [
    "上述方法速度太慢，改进："
   ]
  },
  {
   "cell_type": "markdown",
   "id": "9fb1cb61",
   "metadata": {},
   "source": [
    "`t` 是 `s` 的异位词等价于「两个字符串中字符出现的种类和次数均相等」。由于字符串只包含 `26` 个小写字母，因此我们可以维护一个长度为 `26` 的频次数组 `table`，先遍历记录字符串 `s` 中字符出现的频次，然后遍历字符串 `t`，减去 `table` 中对应的频次，如果出现 `table[i]< 0`，则说明 `t` 包含一个不在 `s` 中的额外字符，返回 `false`。\n",
    "\n",
    "来源：力扣（LeetCode）"
   ]
  },
  {
   "cell_type": "markdown",
   "id": "9846ec8a",
   "metadata": {},
   "source": [
    "判断条件之所以是`table[i]< 0`，是因为当只存在`table[i]> 0`这种情况时，`s`的长度大于`t`，一开始就可以排除掉。\n",
    "\n",
    "并且，在长度相同的情况下，有值大于0就一定有值小于0。"
   ]
  },
  {
   "cell_type": "code",
   "execution_count": 4,
   "id": "ae1e222a",
   "metadata": {},
   "outputs": [],
   "source": [
    "def isAnagram(s,t):\n",
    "    if len(s) != len(t):\n",
    "        return False\n",
    "\n",
    "    table = [0] * 26\n",
    "    for i in s:\n",
    "        # 并不需要记住字符a的ASCII，只要求出一个相对数值就可以了\n",
    "        table[ord(i) - ord('a')] += 1\n",
    "    for j in t:\n",
    "        table[ord(j) - ord('a')] -= 1\n",
    "\n",
    "    for item in table:\n",
    "        if item < 0:\n",
    "            return False\n",
    "\n",
    "    return True"
   ]
  }
 ],
 "metadata": {
  "kernelspec": {
   "display_name": "Python 3 (ipykernel)",
   "language": "python",
   "name": "python3"
  },
  "language_info": {
   "codemirror_mode": {
    "name": "ipython",
    "version": 3
   },
   "file_extension": ".py",
   "mimetype": "text/x-python",
   "name": "python",
   "nbconvert_exporter": "python",
   "pygments_lexer": "ipython3",
   "version": "3.8.8"
  }
 },
 "nbformat": 4,
 "nbformat_minor": 5
}
