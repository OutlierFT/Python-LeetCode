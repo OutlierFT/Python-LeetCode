{
 "cells": [
  {
   "cell_type": "markdown",
   "id": "a9f7009e",
   "metadata": {},
   "source": [
    "给你一个字符串 `s` ，颠倒字符串中 `单词` 的顺序。\n",
    "\n",
    "`单词` 是由非空格字符组成的字符串。`s` 中使用至少一个空格将字符串中的 `单词` 分隔开。\n",
    "\n",
    "返回 `单词` 顺序颠倒且 `单词` 之间用单个空格连接的结果字符串。\n",
    "\n",
    "注意：输入字符串 `s`中可能会存在`前导空格`、`尾随空格`或者`单词间的多个空格`。返回的结果字符串中，单词间应当仅用`单个空格`分隔，且不包含任何额外的空格。"
   ]
  },
  {
   "cell_type": "code",
   "execution_count": 1,
   "id": "a5395b34",
   "metadata": {},
   "outputs": [],
   "source": [
    "def reverseWords(s):\n",
    "    s = s.split()\n",
    "    n = len(s)\n",
    "    \n",
    "    i = 0; j = n-1\n",
    "    \n",
    "    while i < j:\n",
    "        s[i],s[j]=s[j],s[i]\n",
    "        i += 1\n",
    "        j -= 1\n",
    "    \n",
    "    return \" \".join(s)"
   ]
  },
  {
   "cell_type": "code",
   "execution_count": 2,
   "id": "caf42cfd",
   "metadata": {},
   "outputs": [],
   "source": [
    "s = \"  hello   world  \""
   ]
  },
  {
   "cell_type": "code",
   "execution_count": 3,
   "id": "842cd4aa",
   "metadata": {},
   "outputs": [
    {
     "data": {
      "text/plain": [
       "'world hello'"
      ]
     },
     "execution_count": 3,
     "metadata": {},
     "output_type": "execute_result"
    }
   ],
   "source": [
    "reverseWords(s)"
   ]
  },
  {
   "cell_type": "markdown",
   "id": "521929f5",
   "metadata": {},
   "source": [
    "使用 `reversed` 可以将字符串**数组**进行反转！！！\n",
    "\n",
    "因此，进行改进："
   ]
  },
  {
   "cell_type": "code",
   "execution_count": 4,
   "id": "12b550f7",
   "metadata": {},
   "outputs": [],
   "source": [
    "def reverseWords(s):\n",
    "    return \" \".join(reversed(list(s.split())))"
   ]
  }
 ],
 "metadata": {
  "kernelspec": {
   "display_name": "Python 3 (ipykernel)",
   "language": "python",
   "name": "python3"
  },
  "language_info": {
   "codemirror_mode": {
    "name": "ipython",
    "version": 3
   },
   "file_extension": ".py",
   "mimetype": "text/x-python",
   "name": "python",
   "nbconvert_exporter": "python",
   "pygments_lexer": "ipython3",
   "version": "3.8.8"
  }
 },
 "nbformat": 4,
 "nbformat_minor": 5
}
