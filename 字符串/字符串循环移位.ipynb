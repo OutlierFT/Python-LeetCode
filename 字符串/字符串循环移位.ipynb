{
 "cells": [
  {
   "cell_type": "markdown",
   "id": "a645c829",
   "metadata": {},
   "source": [
    "将字符串向右循环移动 k 位"
   ]
  },
  {
   "cell_type": "code",
   "execution_count": 4,
   "id": "94abb314",
   "metadata": {},
   "outputs": [],
   "source": [
    "def cycleshift(s,k):\n",
    "    s1 = s[-k:]\n",
    "    s2 = s[:-k]\n",
    "    return s1 + s2"
   ]
  },
  {
   "cell_type": "code",
   "execution_count": 2,
   "id": "7f47d92a",
   "metadata": {},
   "outputs": [],
   "source": [
    "s = \"abcd123\" \n",
    "k = 3"
   ]
  },
  {
   "cell_type": "code",
   "execution_count": 5,
   "id": "47378540",
   "metadata": {},
   "outputs": [
    {
     "data": {
      "text/plain": [
       "'123abcd'"
      ]
     },
     "execution_count": 5,
     "metadata": {},
     "output_type": "execute_result"
    }
   ],
   "source": [
    "cycleshift(s,k)"
   ]
  },
  {
   "cell_type": "code",
   "execution_count": 6,
   "id": "dc0f4214",
   "metadata": {},
   "outputs": [],
   "source": [
    "s = \"dwjdw2329bjcfw\" \n",
    "k = 6"
   ]
  },
  {
   "cell_type": "code",
   "execution_count": 7,
   "id": "fe98ffc6",
   "metadata": {},
   "outputs": [
    {
     "data": {
      "text/plain": [
       "'9bjcfwdwjdw232'"
      ]
     },
     "execution_count": 7,
     "metadata": {},
     "output_type": "execute_result"
    }
   ],
   "source": [
    "cycleshift(s,k)"
   ]
  }
 ],
 "metadata": {
  "kernelspec": {
   "display_name": "Python 3 (ipykernel)",
   "language": "python",
   "name": "python3"
  },
  "language_info": {
   "codemirror_mode": {
    "name": "ipython",
    "version": 3
   },
   "file_extension": ".py",
   "mimetype": "text/x-python",
   "name": "python",
   "nbconvert_exporter": "python",
   "pygments_lexer": "ipython3",
   "version": "3.8.8"
  }
 },
 "nbformat": 4,
 "nbformat_minor": 5
}
