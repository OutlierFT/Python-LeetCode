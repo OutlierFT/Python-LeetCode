{
 "cells": [
  {
   "cell_type": "markdown",
   "id": "5984f7dd",
   "metadata": {},
   "source": [
    "给定两个字符串 `s1` 和 `s2`，要求判定 `s2` 是否能够被 `s1` 做循环移位得到的字符串包含。"
   ]
  },
  {
   "cell_type": "markdown",
   "id": "48b62318",
   "metadata": {},
   "source": [
    "解法：\n",
    "\n",
    "对s1的循环移位操作，可以使用拼接s1+s1的方式得到。\n",
    "\n",
    "s1 进行循环移位的结果是 s1s1 的子字符串，因此只要判断 s2 是否是 s1s1 的子字符串即可。"
   ]
  },
  {
   "cell_type": "code",
   "execution_count": 1,
   "id": "4981a0fe",
   "metadata": {},
   "outputs": [],
   "source": [
    "def cycleshift(s1,s2):\n",
    "    s = s1+s1\n",
    "\n",
    "    if s2 in s:\n",
    "        return True\n",
    "    else: \n",
    "        return False"
   ]
  },
  {
   "cell_type": "code",
   "execution_count": 2,
   "id": "89428d52",
   "metadata": {},
   "outputs": [],
   "source": [
    "s1 = \"AABCD\"\n",
    "s2 = \"CDAA\""
   ]
  },
  {
   "cell_type": "code",
   "execution_count": 3,
   "id": "c88df531",
   "metadata": {},
   "outputs": [
    {
     "data": {
      "text/plain": [
       "True"
      ]
     },
     "execution_count": 3,
     "metadata": {},
     "output_type": "execute_result"
    }
   ],
   "source": [
    "cycleshift(s1,s2)"
   ]
  }
 ],
 "metadata": {
  "kernelspec": {
   "display_name": "Python 3 (ipykernel)",
   "language": "python",
   "name": "python3"
  },
  "language_info": {
   "codemirror_mode": {
    "name": "ipython",
    "version": 3
   },
   "file_extension": ".py",
   "mimetype": "text/x-python",
   "name": "python",
   "nbconvert_exporter": "python",
   "pygments_lexer": "ipython3",
   "version": "3.8.8"
  }
 },
 "nbformat": 4,
 "nbformat_minor": 5
}
