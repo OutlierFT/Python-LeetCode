{
 "cells": [
  {
   "cell_type": "markdown",
   "id": "db2bb2b5",
   "metadata": {},
   "source": [
    "假设有打乱顺序的一群人站成一个队列，数组 `people` 表示队列中一些人的属性（不一定按顺序）。每个 `people[i] = [hi, ki]` 表示第 `i` 个人的身高为 `hi` ，前面 正好 有 `ki` 个身高大于或等于 `hi` 的人。\n",
    "\n",
    "请你重新构造并返回输入数组 `people` 所表示的队列。返回的队列应该格式化为数组 `queue` ，其中 `queue[j] = [hj, kj]` 是队列中第 `j` 个人的属性（`queue[0]` 是排在队列前面的人）。"
   ]
  },
  {
   "cell_type": "markdown",
   "id": "03428fd3",
   "metadata": {},
   "source": [
    "思路：\n",
    "\n",
    "    \n",
    "    为了使插入操作不影响后续的操作，身高较高的学生应该先做插入操作，否则身高较小的学生原先正确插入的第k个位置可能会变成第k+1个位置。\n",
    "\n",
    "    身高 h 降序、个数 k 值升序，然后将某个学生插入队列的第 k 个位置中。\n"
   ]
  },
  {
   "cell_type": "markdown",
   "id": "ed9b6182",
   "metadata": {},
   "source": [
    "该题的重点在于：\n",
    "1. ki只和身高大于等于的人数相关，所以身高从大到小更容易确定各自的位置，比如身高最高的人必然有一个k为0，别的相同身高的人必然在他的前面\n",
    "\n",
    "\n",
    "2. 在不断插入身高高的人的时候，k值同时也代表着插入的位置！！！因为在插入该人的时候，数组里面的人身高必然都是大于等于他的，之后插入的都是小于等于他的，所以目前插入的位置决定着他的k值。"
   ]
  },
  {
   "cell_type": "code",
   "execution_count": 1,
   "id": "53e368da",
   "metadata": {},
   "outputs": [],
   "source": [
    "def reconstructQueue(people):\n",
    "    people.sort(key=lambda x: (-x[0],x[1]))\n",
    "    \n",
    "    n = len(people)\n",
    "    \n",
    "    queue = []\n",
    "    \n",
    "    for i in range(n):\n",
    "        queue.insert(people[i][1], people[i])\n",
    "        \n",
    "    return queue"
   ]
  },
  {
   "cell_type": "code",
   "execution_count": 2,
   "id": "174ae1bc",
   "metadata": {},
   "outputs": [],
   "source": [
    "people = [[7,0],[4,4],[7,1],[5,0],[6,1],[5,2]]"
   ]
  },
  {
   "cell_type": "code",
   "execution_count": 3,
   "id": "301e703d",
   "metadata": {},
   "outputs": [
    {
     "data": {
      "text/plain": [
       "[[5, 0], [7, 0], [5, 2], [6, 1], [4, 4], [7, 1]]"
      ]
     },
     "execution_count": 3,
     "metadata": {},
     "output_type": "execute_result"
    }
   ],
   "source": [
    "reconstructQueue(people)"
   ]
  }
 ],
 "metadata": {
  "kernelspec": {
   "display_name": "Python 3 (ipykernel)",
   "language": "python",
   "name": "python3"
  },
  "language_info": {
   "codemirror_mode": {
    "name": "ipython",
    "version": 3
   },
   "file_extension": ".py",
   "mimetype": "text/x-python",
   "name": "python",
   "nbconvert_exporter": "python",
   "pygments_lexer": "ipython3",
   "version": "3.8.8"
  }
 },
 "nbformat": 4,
 "nbformat_minor": 5
}
