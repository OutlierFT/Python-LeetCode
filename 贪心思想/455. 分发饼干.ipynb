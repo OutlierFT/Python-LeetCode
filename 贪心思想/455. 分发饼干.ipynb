{
 "cells": [
  {
   "cell_type": "markdown",
   "id": "1a5a228f",
   "metadata": {},
   "source": [
    "假设你是一位很棒的家长，想要给你的孩子们一些小饼干。但是，每个孩子最多只能给一块饼干。\n",
    "\n",
    "对每个孩子 `i`，都有一个胃口值 `g[i]`，这是能让孩子们满足胃口的饼干的最小尺寸；并且每块饼干 `j`，都有一个尺寸 `s[j]` 。如果 `s[j] >= g[i]`，我们可以将这个饼干 `j` 分配给孩子 `i` ，这个孩子会得到满足。你的目标是尽可能满足越多数量的孩子，并输出这个最大数值。"
   ]
  },
  {
   "cell_type": "markdown",
   "id": "d90405f0",
   "metadata": {},
   "source": [
    "思路：\n",
    "\n",
    "1. 给一个孩子的饼干应当尽量小并且又能满足该孩子，这样大饼干才能拿来给满足度比较大的孩子。\n",
    "2. 因为满足度最小的孩子最容易得到满足，所以先满足满足度最小的孩子。\n",
    "\n",
    "在以上的解法中，我们只在每次分配时饼干时选择一种看起来是当前最优的分配方法，但无法保证这种局部最优的分配方法最后能得到全局最优解。我们假设能得到全局最优解，并使用反证法进行证明，即假设存在一种比我们使用的贪心策略更优的最优策略。如果不存在这种最优策略，表示贪心策略就是最优策略，得到的解也就是全局最优解。\n",
    "\n",
    "证明：假设在某次选择中，贪心策略选择给当前满足度最小的孩子分配第 `m` 个饼干，第 `m` 个饼干为可以满足该孩子的最小饼干。假设存在一种最优策略，可以给该孩子分配第 `n` 个饼干，并且 `m < n`。我们可以发现，经过这一轮分配，贪心策略分配后剩下的饼干一定有一个比最优策略来得大。因此在后续的分配中，贪心策略一定能满足更多的孩子。也就是说不存在比贪心策略更优的策略，即贪心策略就是最优策略。"
   ]
  },
  {
   "cell_type": "code",
   "execution_count": 12,
   "id": "1a32f362",
   "metadata": {},
   "outputs": [],
   "source": [
    "def findContentChildren(g, s):\n",
    "    # 孩子胃口\n",
    "    g.sort()\n",
    "    # 饼干大小\n",
    "    s.sort()\n",
    "    \n",
    "    num = 0\n",
    "    \n",
    "    # 孩子序号\n",
    "    i = 0\n",
    "    # 饼干序号\n",
    "    j = 0\n",
    "    while j < len(s) and i < len(g):\n",
    "        if s[j] >= g[i]:\n",
    "            i += 1\n",
    "            num += 1\n",
    "        j += 1\n",
    "    return num"
   ]
  },
  {
   "cell_type": "code",
   "execution_count": 3,
   "id": "9a32e045",
   "metadata": {},
   "outputs": [],
   "source": [
    "g = [1,2,3] \n",
    "s = [1,1]"
   ]
  },
  {
   "cell_type": "code",
   "execution_count": 4,
   "id": "86181365",
   "metadata": {},
   "outputs": [
    {
     "data": {
      "text/plain": [
       "1"
      ]
     },
     "execution_count": 4,
     "metadata": {},
     "output_type": "execute_result"
    }
   ],
   "source": [
    "findContentChildren(g,s)"
   ]
  },
  {
   "cell_type": "code",
   "execution_count": 6,
   "id": "5f7a88a7",
   "metadata": {},
   "outputs": [],
   "source": [
    "g = [1,2]\n",
    "s = [1,2,3]"
   ]
  },
  {
   "cell_type": "code",
   "execution_count": 13,
   "id": "0af74f97",
   "metadata": {},
   "outputs": [
    {
     "data": {
      "text/plain": [
       "2"
      ]
     },
     "execution_count": 13,
     "metadata": {},
     "output_type": "execute_result"
    }
   ],
   "source": [
    "findContentChildren(g,s)"
   ]
  }
 ],
 "metadata": {
  "kernelspec": {
   "display_name": "Python 3 (ipykernel)",
   "language": "python",
   "name": "python3"
  },
  "language_info": {
   "codemirror_mode": {
    "name": "ipython",
    "version": 3
   },
   "file_extension": ".py",
   "mimetype": "text/x-python",
   "name": "python",
   "nbconvert_exporter": "python",
   "pygments_lexer": "ipython3",
   "version": "3.8.8"
  }
 },
 "nbformat": 4,
 "nbformat_minor": 5
}
