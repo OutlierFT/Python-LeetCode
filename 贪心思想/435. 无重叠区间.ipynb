{
 "cells": [
  {
   "cell_type": "markdown",
   "id": "b01c27aa",
   "metadata": {},
   "source": [
    "给定一个区间的集合 intervals ，其中 `intervals[i] = [start_i, end_i]` 。返回 需要移除区间的最小数量，使剩余区间互不重叠 。"
   ]
  },
  {
   "cell_type": "markdown",
   "id": "cacab3e6",
   "metadata": {},
   "source": [
    "**错误思路**： 先对区间进行遍历，计算有多少区间和该区间重叠，按照重叠区间个数从多到少依次删除，直到不重叠为止。"
   ]
  },
  {
   "cell_type": "code",
   "execution_count": 1,
   "id": "c68f9c55",
   "metadata": {},
   "outputs": [],
   "source": [
    "def eraseOverlapIntervals(intervals):\n",
    "    \n",
    "    def checkOverlap1(inta,intb):\n",
    "        if inta[0] <= intb[0] < inta[1]:\n",
    "            return True\n",
    "        elif inta[0] < intb[1] <= inta[1]:\n",
    "            return True\n",
    "        elif intb[0] <= inta[0] and inta[1] <= intb[1]:\n",
    "            return True\n",
    "        else: \n",
    "            return False\n",
    "    \n",
    "    def checkOverlap2(intervals):\n",
    "        i = 0\n",
    "        n = len(intervals)\n",
    "        while i < n:\n",
    "            for j in range(i+1,n):\n",
    "\n",
    "                if checkOverlap1(intervals[i],intervals[j]):\n",
    "                    return True\n",
    "            i += 1\n",
    "        return False\n",
    "    \n",
    "    def overlap(intv):\n",
    "        n = len(intv)\n",
    "        overlap = [0]*n\n",
    "        i = 0\n",
    "        \n",
    "        while i < n:\n",
    "            for j in range(n):\n",
    "                if checkOverlap1(intv[i],intv[j]):\n",
    "                    overlap[i] += 1\n",
    "            i += 1\n",
    "        \n",
    "        return overlap\n",
    "    \n",
    "    count = 0\n",
    "    while checkOverlap2(intervals):\n",
    "        \n",
    "        overlap1 = overlap(intervals)\n",
    "        \n",
    "        overlapmax = max(overlap1)\n",
    "        \n",
    "        ind = overlap1.index(overlapmax)\n",
    "        intervals.pop(ind)\n",
    "        count += 1\n",
    "    return count "
   ]
  },
  {
   "cell_type": "markdown",
   "id": "baf73a4a",
   "metadata": {},
   "source": [
    "**正确思路**：\n",
    "\n",
    "```\n",
    "先计算最多能组成的不重叠区间个数，然后用区间总个数减去不重叠区间的个数。\n",
    "\n",
    "在每次选择中，区间的结尾最为重要，选择的区间结尾越小，留给后面的区间的空间越大，那么后面能够选择的区间个数也就越大。\n",
    "\n",
    "按区间的结尾进行排序，每次选择结尾最小，并且和前一个区间不重叠的区间。\n",
    "```"
   ]
  },
  {
   "cell_type": "code",
   "execution_count": 2,
   "id": "e0e903d4",
   "metadata": {},
   "outputs": [],
   "source": [
    "def eraseOverlapIntervals(intervals):\n",
    "    if not intervals:\n",
    "        return 0\n",
    "        \n",
    "    # 按区间的结尾进行排序\n",
    "    intervals.sort(key = lambda x: x[1])\n",
    "    \n",
    "    right = intervals[0][1]\n",
    "    \n",
    "    n = len(intervals)\n",
    "        \n",
    "    count = 1\n",
    "    for i in range(1,n):\n",
    "        if intervals[i][0] >= right:\n",
    "            count += 1\n",
    "            right = intervals[i][1]\n",
    "    \n",
    "    return n - count"
   ]
  }
 ],
 "metadata": {
  "kernelspec": {
   "display_name": "Python 3 (ipykernel)",
   "language": "python",
   "name": "python3"
  },
  "language_info": {
   "codemirror_mode": {
    "name": "ipython",
    "version": 3
   },
   "file_extension": ".py",
   "mimetype": "text/x-python",
   "name": "python",
   "nbconvert_exporter": "python",
   "pygments_lexer": "ipython3",
   "version": "3.8.8"
  }
 },
 "nbformat": 4,
 "nbformat_minor": 5
}
