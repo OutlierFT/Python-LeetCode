{
 "cells": [
  {
   "cell_type": "markdown",
   "id": "88138dd7",
   "metadata": {},
   "source": [
    "有一些球形气球贴在一堵用 `XY` 平面表示的墙面上。墙面上的气球记录在整数数组 `points` ，其中`points[i] = [x_start, x_end]` 表示水平直径在 `x_start` 和 `x_end`之间的气球。你不知道气球的确切 `y` 坐标。\n",
    "\n",
    "一支弓箭可以沿着 `x` 轴从不同点 完全垂直 地射出。在坐标 `x` 处射出一支箭，若有一个气球的直径的开始和结束坐标为 `x_start`，`x_end`， 且满足  `x_start ≤ x ≤ x_end`，则该气球会被 引爆 。可以射出的弓箭的数量 没有限制 。 弓箭一旦被射出之后，可以无限地前进。\n",
    "\n",
    "给你一个数组 `points` ，返回引爆所有气球所必须射出的 最小 弓箭数 。"
   ]
  },
  {
   "cell_type": "markdown",
   "id": "bf112d81",
   "metadata": {},
   "source": [
    "**思路**：\n",
    "```\n",
    "这道题解法和435.无重叠区间相同。\n",
    "\n",
    "这道题是最小化问题，求的是箭数的下限。\n",
    "\n",
    "435用的是最大化解法，求可以用多少个不重叠的区间，该问题的上限等于箭数的下限。\n",
    "\n",
    "箭数如果高于这个最小值，意味着我们用了多余的箭来射掉了互相重叠的区间，相当于在435中我们用了重叠区间，所以两个问题等价。\n",
    "```"
   ]
  },
  {
   "cell_type": "markdown",
   "id": "86e564ca",
   "metadata": {},
   "source": [
    "区别在于，[1, 2] 和 [2, 3] 在本题中算是重叠区间。"
   ]
  },
  {
   "cell_type": "markdown",
   "id": "d1f124de",
   "metadata": {},
   "source": [
    "**Intuitive**:\n",
    "\n",
    "我们找出原本引爆的气球中右边界位置最靠左的那一个，将这支箭的射出位置移动到这个右边界位置，这也是最远可以往右移动到的位置\n",
    "\n",
    "只要我们再往右移动一点点，这个气球就无法被引爆了。\n",
    "\n",
    "——————所以依旧是按照**右边界的大小顺序**来进行选择\n",
    "\n",
    "解法：\n",
    "\n",
    "考虑所有气球中右边界位置最靠左的那一个，那么一定有一支箭的射出位置就是它的右边界（否则就没有箭可以将其引爆了）。\n",
    "\n",
    "当我们确定了一支箭之后，我们就可以将这支箭引爆的所有气球移除，并从剩下未被引爆的气球中，再选择右边界位置最靠左的那一个，确定下一支箭，直到所有的气球都被引爆。\n"
   ]
  },
  {
   "cell_type": "code",
   "execution_count": 2,
   "id": "76a7f229",
   "metadata": {},
   "outputs": [],
   "source": [
    "def findMinArrowShots(points):\n",
    "    if not points:\n",
    "        return 0\n",
    "    \n",
    "    points.sort(key=lambda x: x[1])\n",
    "    \n",
    "    n = len(points)\n",
    "    right = points[0][1]\n",
    "    arrow = 1\n",
    "    \n",
    "    for i in range(1,n):\n",
    "        if points[i][0]>right:\n",
    "            right = points[i][1]\n",
    "            arrow += 1\n",
    "    return arrow"
   ]
  }
 ],
 "metadata": {
  "kernelspec": {
   "display_name": "Python 3 (ipykernel)",
   "language": "python",
   "name": "python3"
  },
  "language_info": {
   "codemirror_mode": {
    "name": "ipython",
    "version": 3
   },
   "file_extension": ".py",
   "mimetype": "text/x-python",
   "name": "python",
   "nbconvert_exporter": "python",
   "pygments_lexer": "ipython3",
   "version": "3.8.8"
  }
 },
 "nbformat": 4,
 "nbformat_minor": 5
}
