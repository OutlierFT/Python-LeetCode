{
 "cells": [
  {
   "cell_type": "markdown",
   "id": "e544f45e",
   "metadata": {},
   "source": [
    "给你两个按 `非递减`顺序 排列的整数数组 `nums1` 和 `nums2`，另有两个整数 `m` 和 `n` ，分别表示 `nums1` 和 `nums2` 中的元素数目。\n",
    "\n",
    "请你 合并 `nums2` 到 `nums1` 中，使合并后的数组同样按 `非递减`顺序 排列。\n",
    "\n",
    "注意：最终，合并后数组不应由函数返回，而是存储在数组 `nums1` 中。为了应对这种情况，`nums1` 的初始长度为 `m + n`，其中前 `m` 个元素表示应合并的元素，后 `n` 个元素为 `0` ，应忽略。`nums2` 的长度为 `n` 。"
   ]
  },
  {
   "cell_type": "markdown",
   "id": "bd990593",
   "metadata": {},
   "source": [
    "初始方法：\n",
    "\n",
    "这种方法由于 `Do not return anything, modify nums1 in-place instead.`\\\n",
    "需要`nums1[:] = num_new`\n",
    "否则 `nums1`依旧没变"
   ]
  },
  {
   "cell_type": "code",
   "execution_count": 1,
   "id": "17f7cbe4",
   "metadata": {},
   "outputs": [],
   "source": [
    "def merge(nums1, m, nums2, n):\n",
    "    i = 0\n",
    "    j = 0\n",
    "    \n",
    "    num_new = []\n",
    "    while i < m or j < n:\n",
    "        if i == m:\n",
    "            num_new = num_new + nums2[j:]\n",
    "            break\n",
    "            \n",
    "        if j == n:\n",
    "            num_new = num_new + nums1[i:m]\n",
    "            break\n",
    "            \n",
    "        if nums1[i] < nums2[j]:\n",
    "            num_new.append(nums1[i])\n",
    "            i += 1\n",
    "        else:\n",
    "            num_new.append(nums2[j])\n",
    "            j += 1\n",
    "    nums1[:] = num_new"
   ]
  },
  {
   "cell_type": "code",
   "execution_count": 2,
   "id": "b1bb2d25",
   "metadata": {},
   "outputs": [],
   "source": [
    "nums1 = [1,2,3,0,0,0]\n",
    "m = 3\n",
    "nums2 = [2,5,6]\n",
    "n = 3"
   ]
  },
  {
   "cell_type": "code",
   "execution_count": 3,
   "id": "fb1f0317",
   "metadata": {},
   "outputs": [],
   "source": [
    "merge(nums1, m, nums2, n)"
   ]
  },
  {
   "cell_type": "code",
   "execution_count": 4,
   "id": "4f45af7b",
   "metadata": {},
   "outputs": [
    {
     "data": {
      "text/plain": [
       "[1, 2, 2, 3, 5, 6]"
      ]
     },
     "execution_count": 4,
     "metadata": {},
     "output_type": "execute_result"
    }
   ],
   "source": [
    "nums1"
   ]
  },
  {
   "cell_type": "markdown",
   "id": "b07bab2b",
   "metadata": {},
   "source": [
    "另一种方法：\n",
    "\n",
    "从尾开始遍历，否则在 `nums1` 上归并得到的值会覆盖还未进行归并比较的值。"
   ]
  },
  {
   "cell_type": "code",
   "execution_count": 12,
   "id": "a976c72d",
   "metadata": {},
   "outputs": [],
   "source": [
    "def merge(nums1, m, nums2, n):\n",
    "    i = m-1\n",
    "    j = n-1\n",
    "    k = 1\n",
    "    while j >=0 :\n",
    "\n",
    "        if i < 0:\n",
    "            nums1[:j+1] = nums2[:j+1]\n",
    "            break\n",
    "\n",
    "        if nums1[i] < nums2[j]:\n",
    "            \n",
    "            nums1[-k] = nums2[j]\n",
    "            j -= 1\n",
    "            k += 1\n",
    "            \n",
    "        else:\n",
    "            nums1[-k] = nums1[i]\n",
    "            i -= 1\n",
    "            k += 1"
   ]
  },
  {
   "cell_type": "code",
   "execution_count": 13,
   "id": "2dd579f3",
   "metadata": {},
   "outputs": [],
   "source": [
    "nums1 = [1,2,3,0,0,0]\n",
    "m = 3\n",
    "nums2 = [2,5,6]\n",
    "n = 3"
   ]
  },
  {
   "cell_type": "code",
   "execution_count": 14,
   "id": "ce788671",
   "metadata": {},
   "outputs": [],
   "source": [
    "merge(nums1, m, nums2, n)"
   ]
  },
  {
   "cell_type": "code",
   "execution_count": 15,
   "id": "49db7191",
   "metadata": {},
   "outputs": [
    {
     "data": {
      "text/plain": [
       "[1, 2, 2, 3, 5, 6]"
      ]
     },
     "execution_count": 15,
     "metadata": {},
     "output_type": "execute_result"
    }
   ],
   "source": [
    "nums1"
   ]
  },
  {
   "cell_type": "code",
   "execution_count": 16,
   "id": "3bb10424",
   "metadata": {},
   "outputs": [],
   "source": [
    "nums1 = [0]\n",
    "m = 0\n",
    "nums2 = [1]\n",
    "n = 1"
   ]
  },
  {
   "cell_type": "code",
   "execution_count": 17,
   "id": "730591ec",
   "metadata": {},
   "outputs": [],
   "source": [
    "merge(nums1, m, nums2, n)"
   ]
  },
  {
   "cell_type": "code",
   "execution_count": 18,
   "id": "3c75056f",
   "metadata": {},
   "outputs": [
    {
     "data": {
      "text/plain": [
       "[1]"
      ]
     },
     "execution_count": 18,
     "metadata": {},
     "output_type": "execute_result"
    }
   ],
   "source": [
    "nums1"
   ]
  }
 ],
 "metadata": {
  "kernelspec": {
   "display_name": "Python 3 (ipykernel)",
   "language": "python",
   "name": "python3"
  },
  "language_info": {
   "codemirror_mode": {
    "name": "ipython",
    "version": 3
   },
   "file_extension": ".py",
   "mimetype": "text/x-python",
   "name": "python",
   "nbconvert_exporter": "python",
   "pygments_lexer": "ipython3",
   "version": "3.8.8"
  }
 },
 "nbformat": 4,
 "nbformat_minor": 5
}
