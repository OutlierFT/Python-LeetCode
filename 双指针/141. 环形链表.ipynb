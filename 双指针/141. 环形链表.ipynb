{
 "cells": [
  {
   "cell_type": "markdown",
   "id": "90cafe0c",
   "metadata": {},
   "source": [
    "给你一个链表的头节点 `head` ，判断链表中是否有环。\n",
    "\n",
    "如果链表中有某个节点，可以通过连续跟踪 `next` 指针再次到达，则链表中存在环。 为了表示给定链表中的环，评测系统内部使用整数 `pos` 来表示链表尾连接到链表中的位置（索引从 0 开始）。注意：`pos` 不作为参数进行传递 。仅仅是为了标识链表的实际情况。\n",
    "\n",
    "如果链表中存在环 ，则返回 `true` 。 否则，返回 `false` 。"
   ]
  },
  {
   "cell_type": "markdown",
   "id": "a69b7394",
   "metadata": {},
   "source": [
    "思路：使用双指针，一个指针每次移动一个节点，一个指针每次移动两个节点，如果存在环，那么这两个指针一定会相遇。"
   ]
  },
  {
   "cell_type": "code",
   "execution_count": 2,
   "id": "5cbba448",
   "metadata": {},
   "outputs": [],
   "source": [
    "def hasCycle(head) -> bool:\n",
    "        if not head:\n",
    "            return None\n",
    "        if not head.next:\n",
    "            return None\n",
    "        \n",
    "        fast = slow = head\n",
    "        while fast and fast.next:\n",
    "            # fast走两步\n",
    "            fast = fast.next.next\n",
    "            slow = slow.next\n",
    "            if fast == slow:\n",
    "                return True\n",
    "        return False"
   ]
  },
  {
   "cell_type": "markdown",
   "id": "2f59b050",
   "metadata": {},
   "source": [
    "本方法需要读者对「Floyd 判圈算法」（又称龟兔赛跑算法）有所了解。\n",
    "\n",
    "假想「乌龟」和「兔子」在链表上移动，「兔子」跑得快，「乌龟」跑得慢。当「乌龟」和「兔子」从链表上的同一个节点开始移动时，如果该链表中没有环，那么「兔子」将一直处于「乌龟」的前方；如果该链表中有环，那么「兔子」会先于「乌龟」进入环，并且一直在环内移动。等到「乌龟」进入环时，由于「兔子」的速度快，它一定会在某个时刻与乌龟相遇，即套了「乌龟」若干圈。\n",
    "\n",
    "我们可以根据上述思路来解决本题。具体地，我们定义两个指针，一快一满。慢指针每次只移动一步，而快指针每次移动两步。初始时，慢指针在位置 head，而快指针在位置 head.next。这样一来，如果在移动的过程中，快指针反过来追上慢指针，就说明该链表为环形链表。否则快指针将到达链表尾部，该链表不为环形链表。\n",
    "\n",
    "作者：LeetCode-Solution\n",
    "来源：力扣（LeetCode）"
   ]
  },
  {
   "cell_type": "markdown",
   "id": "8cfaef54",
   "metadata": {},
   "source": [
    "#### Leetcode解法"
   ]
  },
  {
   "cell_type": "code",
   "execution_count": 3,
   "id": "49f3f28a",
   "metadata": {},
   "outputs": [],
   "source": [
    "def hasCycle(head):\n",
    "        if not head or not head.next:\n",
    "            return False\n",
    "        \n",
    "        slow = head\n",
    "        fast = head.next\n",
    "\n",
    "        while slow != fast:\n",
    "            if not fast or not fast.next:\n",
    "                return False\n",
    "            slow = slow.next\n",
    "            fast = fast.next.next\n",
    "        \n",
    "        return True"
   ]
  }
 ],
 "metadata": {
  "kernelspec": {
   "display_name": "Python 3 (ipykernel)",
   "language": "python",
   "name": "python3"
  },
  "language_info": {
   "codemirror_mode": {
    "name": "ipython",
    "version": 3
   },
   "file_extension": ".py",
   "mimetype": "text/x-python",
   "name": "python",
   "nbconvert_exporter": "python",
   "pygments_lexer": "ipython3",
   "version": "3.8.8"
  }
 },
 "nbformat": 4,
 "nbformat_minor": 5
}
