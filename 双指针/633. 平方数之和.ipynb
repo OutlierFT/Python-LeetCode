{
 "cells": [
  {
   "cell_type": "markdown",
   "id": "643d4175",
   "metadata": {},
   "source": [
    "给定一个非负整数 `c` ，你要判断是否存在两个整数 `a` 和 `b`，使得 $a^2 + b^2 = c$ 。"
   ]
  },
  {
   "cell_type": "code",
   "execution_count": 32,
   "id": "1bb9c011",
   "metadata": {},
   "outputs": [],
   "source": [
    "import math\n",
    "def squaresum(c):\n",
    "    intv = int(math.sqrt(c))\n",
    "    \n",
    "    low = 0\n",
    "    high = intv\n",
    "    \n",
    "    while low <= high:\n",
    "        s = low**2 + high**2\n",
    "        if  s == c:\n",
    "            return True\n",
    "\n",
    "        elif s > c:\n",
    "            high -= 1\n",
    "\n",
    "        else:\n",
    "            low += 1\n",
    "    return False"
   ]
  },
  {
   "cell_type": "code",
   "execution_count": 33,
   "id": "8d7ca3d3",
   "metadata": {
    "scrolled": false
   },
   "outputs": [
    {
     "data": {
      "text/plain": [
       "False"
      ]
     },
     "execution_count": 33,
     "metadata": {},
     "output_type": "execute_result"
    }
   ],
   "source": [
    "squaresum(6)"
   ]
  }
 ],
 "metadata": {
  "kernelspec": {
   "display_name": "Python 3 (ipykernel)",
   "language": "python",
   "name": "python3"
  },
  "language_info": {
   "codemirror_mode": {
    "name": "ipython",
    "version": 3
   },
   "file_extension": ".py",
   "mimetype": "text/x-python",
   "name": "python",
   "nbconvert_exporter": "python",
   "pygments_lexer": "ipython3",
   "version": "3.8.8"
  }
 },
 "nbformat": 4,
 "nbformat_minor": 5
}
