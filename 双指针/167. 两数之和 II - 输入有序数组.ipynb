{
 "cells": [
  {
   "cell_type": "markdown",
   "id": "cb6d2cf3",
   "metadata": {},
   "source": [
    "给你一个下标从 1 开始的整数数组 numbers ，该数组已按 **非递减**顺序排列  ，请你从数组中找出满足相加之和等于目标数 **target** 的两个数。如果设这两个数分别是 `numbers[index1]` 和 `numbers[index2]` ，则 `1 <= index1 < index2 <= numbers.length` 。\n",
    "\n",
    "以长度为 2 的整数数组 `[index1, index2]` 的形式返回这两个整数的下标 `index1` 和 `index2`。\n",
    "\n",
    "你可以假设每个输入 只对应唯一的答案 ，而且你 不可以 重复使用相同的元素。\n",
    "\n",
    "你所设计的解决方案必须只使用常量级的额外空间。"
   ]
  },
  {
   "cell_type": "markdown",
   "id": "c5c465f4",
   "metadata": {},
   "source": [
    "思路：\n",
    "\n",
    "1. left，right指针分别指向数组头尾元素；\n",
    "2. 若numbers[left] + numbers[right] == target则直接返回；\n",
    "3. 若numbers[left] + numbers[right] < target则将left右移，前两个数的和会增大；\n",
    "4. numbers[left] + numbers[right] > target则将right左移，前两个数的和会减小；\n",
    "5. 两指针相遇时还未找到满足的元素对则返回空数组。\n"
   ]
  },
  {
   "cell_type": "code",
   "execution_count": 11,
   "id": "dba3d109",
   "metadata": {},
   "outputs": [],
   "source": [
    "def twosum(target,numbers):\n",
    "    left, right = 0, len(numbers)-1\n",
    "    while (left < right): # 保证左指针始终都在右指针的左面\n",
    "        if numbers[left]+numbers[right]==target:\n",
    "            return [left+1,right+1]\n",
    "        elif numbers[left]+numbers[right]<target:\n",
    "            left+=1\n",
    "        else:\n",
    "            right-=1\n",
    "    return []"
   ]
  },
  {
   "cell_type": "code",
   "execution_count": 9,
   "id": "367c1b29",
   "metadata": {},
   "outputs": [],
   "source": [
    "numbers = [2,7,11,15]\n",
    "target = 9"
   ]
  },
  {
   "cell_type": "code",
   "execution_count": 12,
   "id": "98884eeb",
   "metadata": {},
   "outputs": [
    {
     "name": "stdout",
     "output_type": "stream",
     "text": [
      "[1, 2]\n"
     ]
    }
   ],
   "source": [
    "print(twosum(target,numbers))"
   ]
  },
  {
   "cell_type": "markdown",
   "id": "903ec7a4",
   "metadata": {},
   "source": [
    "这道题中数组是已经排序的这点十分重要！！！"
   ]
  },
  {
   "cell_type": "markdown",
   "id": "70dd4164",
   "metadata": {},
   "source": [
    "使用双指针的实质是缩小查找范围。"
   ]
  },
  {
   "cell_type": "markdown",
   "id": "61b73600",
   "metadata": {},
   "source": [
    "那么会不会把可能的解过滤掉？"
   ]
  },
  {
   "cell_type": "markdown",
   "id": "c1ffe845",
   "metadata": {},
   "source": [
    "答案是不会。假设 $\\textit{numbers}[i]+\\textit{numbers}[j]=\\textit{target}numbers[i]+numbers[j]=target$ 是唯一解，其中 $0 \\leq i<j \\leq \\textit{numbers}.\\textit{length}-10≤i<j≤numbers.length−1$。初始时两个指针分别指向下标 $0$ 和下标 $\\textit{numbers}.\\textit{length}-1numbers.length−1$，左指针指向的下标小于或等于 $i$，右指针指向的下标大于或等于 $j$。除非初始时左指针和右指针已经位于下标 $i$ 和 $j$，否则一定是左指针先到达下标 $i$ 的位置或者右指针先到达下标 $j$ 的位置。\n",
    "\n",
    "如果左指针先到达下标 $i$ 的位置，此时右指针还在下标 $j$ 的右侧，$\\textit{sum}>\\textit{target}sum>target$，因此一定是右指针左移，左指针不可能移到 $i$ 的右侧。\n",
    "\n",
    "如果右指针先到达下标 $j$ 的位置，此时左指针还在下标 $i$ 的左侧，$\\textit{sum}<\\textit{target}sum<target$，因此一定是左指针右移，右指针不可能移到 $j$ 的左侧。\n",
    "\n",
    "由此可见，在整个移动过程中，左指针不可能移到 $i$ 的右侧，右指针不可能移到 $j$ 的左侧，因此不会把可能的解过滤掉。由于题目确保有唯一的答案，因此使用双指针一定可以找到答案\n",
    "\n",
    "作者：LeetCode-Solution\n",
    "来源：力扣（LeetCode）"
   ]
  }
 ],
 "metadata": {
  "kernelspec": {
   "display_name": "Python 3 (ipykernel)",
   "language": "python",
   "name": "python3"
  },
  "language_info": {
   "codemirror_mode": {
    "name": "ipython",
    "version": 3
   },
   "file_extension": ".py",
   "mimetype": "text/x-python",
   "name": "python",
   "nbconvert_exporter": "python",
   "pygments_lexer": "ipython3",
   "version": "3.8.8"
  }
 },
 "nbformat": 4,
 "nbformat_minor": 5
}
