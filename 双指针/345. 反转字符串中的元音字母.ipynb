{
 "cells": [
  {
   "cell_type": "markdown",
   "id": "7a3ebc2e",
   "metadata": {},
   "source": [
    "给你一个字符串 s ，仅反转字符串中的所有元音字母，并返回结果字符串。\n",
    "\n",
    "元音字母包括 'a'、'e'、'i'、'o'、'u'，且可能以大小写两种形式出现。"
   ]
  },
  {
   "cell_type": "markdown",
   "id": "431b6902",
   "metadata": {},
   "source": [
    "原始方法："
   ]
  },
  {
   "cell_type": "code",
   "execution_count": 47,
   "id": "0b203e25",
   "metadata": {},
   "outputs": [],
   "source": [
    "def reverseVowels(s):\n",
    "    left = 0\n",
    "    right = len(s)-1\n",
    "    \n",
    "    s = list(s)\n",
    "    a = \"aeiouAEIOU\"\n",
    "    \n",
    "    while left < right:\n",
    "        if s[left] in a: # 当left为元音时\n",
    "            # 找到right为元音\n",
    "            while s[right] not in a:\n",
    "                right -= 1\n",
    "            s[left],s[right] = s[right],s[left]\n",
    "        \n",
    "        elif s[right] in a: # 当right为元音时\n",
    "            # 找到left为元音\n",
    "            while s[left] not in a:\n",
    "                left += 1\n",
    "            s[left],s[right] = s[right],s[left]\n",
    "        # update\n",
    "        right -= 1\n",
    "        left += 1\n",
    "    return \"\".join(s)"
   ]
  },
  {
   "cell_type": "code",
   "execution_count": 48,
   "id": "9bd6e52b",
   "metadata": {
    "scrolled": true
   },
   "outputs": [
    {
     "data": {
      "text/plain": [
       "'Aa'"
      ]
     },
     "execution_count": 48,
     "metadata": {},
     "output_type": "execute_result"
    }
   ],
   "source": [
    "reverseVowels(\"aA\")"
   ]
  },
  {
   "cell_type": "markdown",
   "id": "26fab355",
   "metadata": {},
   "source": [
    "改进方法："
   ]
  },
  {
   "cell_type": "markdown",
   "id": "0d6dfd57",
   "metadata": {},
   "source": [
    "指针 `i` 初始时指向字符串 `s` 的首位，指针 `j` 初始时指向字符串 `s` 的末位。在遍历的过程中，我们不停地将 `i` 向右移动，直到 `i` 指向一个元音字母（或者超出字符串的边界范围）；同时，我们不停地将 `j` 向左移动，直到 `j` 指向一个元音字母。此时，如果 `i<j`，那么我们交换 `i` 和 `j` 指向的元音字母，否则说明所有的元音字母均已遍历过，就可以退出遍历的过程。"
   ]
  },
  {
   "cell_type": "code",
   "execution_count": 50,
   "id": "b884ce1c",
   "metadata": {},
   "outputs": [],
   "source": [
    "def reverseVowels(s):\n",
    "    n =len(s)\n",
    "    \n",
    "    i = 0\n",
    "    j = n-1\n",
    "    \n",
    "    s = list(s)\n",
    "    a = \"aeiouAEIOU\"\n",
    "    \n",
    "    while i < j:\n",
    "        while i < n and s[i] not in a:\n",
    "            i += 1\n",
    "            \n",
    "        while j >= 0 and s[j] not in a:\n",
    "            j -= 1\n",
    "            \n",
    "        if i < j:\n",
    "            s[i], s[j] = s[j], s[i]\n",
    "            i += 1\n",
    "            j -= 1\n",
    "    return \"\".join(s)"
   ]
  },
  {
   "cell_type": "code",
   "execution_count": 52,
   "id": "b90de864",
   "metadata": {},
   "outputs": [
    {
     "data": {
      "text/plain": [
       "'Leotcede'"
      ]
     },
     "execution_count": 52,
     "metadata": {},
     "output_type": "execute_result"
    }
   ],
   "source": [
    "reverseVowels(\"Leetcode\")"
   ]
  }
 ],
 "metadata": {
  "kernelspec": {
   "display_name": "Python 3 (ipykernel)",
   "language": "python",
   "name": "python3"
  },
  "language_info": {
   "codemirror_mode": {
    "name": "ipython",
    "version": 3
   },
   "file_extension": ".py",
   "mimetype": "text/x-python",
   "name": "python",
   "nbconvert_exporter": "python",
   "pygments_lexer": "ipython3",
   "version": "3.8.8"
  }
 },
 "nbformat": 4,
 "nbformat_minor": 5
}
