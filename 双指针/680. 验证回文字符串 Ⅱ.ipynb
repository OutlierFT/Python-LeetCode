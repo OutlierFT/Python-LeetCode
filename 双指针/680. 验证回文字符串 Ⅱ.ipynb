{
 "cells": [
  {
   "cell_type": "markdown",
   "id": "cab3c2a5",
   "metadata": {},
   "source": [
    "给定一个非空字符串 s，最多删除一个字符。判断是否能成为回文字符串。"
   ]
  },
  {
   "cell_type": "markdown",
   "id": "018dc898",
   "metadata": {},
   "source": [
    "初始方法："
   ]
  },
  {
   "cell_type": "code",
   "execution_count": 1,
   "id": "c0fef7a8",
   "metadata": {},
   "outputs": [],
   "source": [
    "def validPalindrome(s):\n",
    "    s = list(s)\n",
    "    n = len(s)\n",
    "    \n",
    "    i = 0\n",
    "    j = n-1\n",
    "    \n",
    "    while s[i]==s[j] and i <= j:\n",
    "\n",
    "        i += 1\n",
    "        j -= 1\n",
    "\n",
    "    if i > j:\n",
    "        return True\n",
    "\n",
    "    else:\n",
    "        s_i = s[i+1:j+1]\n",
    "        s_j = s[i:j]\n",
    "    \n",
    "#------------------------------\n",
    "# i方向删除一个\n",
    "    i_i = 0\n",
    "    j_i = len(s_i)-1\n",
    "\n",
    "    while i_i < n and j_i >= 0 and s_i[i_i]==s_i[j_i]:\n",
    "\n",
    "        i_i += 1\n",
    "        j_i -= 1\n",
    "\n",
    "    if i_i > j_i:\n",
    "        return True\n",
    "#------------------------------   \n",
    "# j方向删除一个\n",
    "    i_j = 0\n",
    "    j_j = len(s_j)-1\n",
    "  \n",
    "    while i_j < n and j_j >= 0 and s_j[i_j]==s_j[j_j]:\n",
    "\n",
    "        i_j += 1\n",
    "        j_j -= 1\n",
    "\n",
    "    if i_j > j_j:\n",
    "        return True\n",
    "#------------------------------\n",
    "    return False"
   ]
  },
  {
   "cell_type": "code",
   "execution_count": 2,
   "id": "43ffa4ed",
   "metadata": {},
   "outputs": [],
   "source": [
    "s = \"abca\""
   ]
  },
  {
   "cell_type": "code",
   "execution_count": 3,
   "id": "4596deea",
   "metadata": {
    "scrolled": true
   },
   "outputs": [
    {
     "data": {
      "text/plain": [
       "True"
      ]
     },
     "execution_count": 3,
     "metadata": {},
     "output_type": "execute_result"
    }
   ],
   "source": [
    "validPalindrome(s)"
   ]
  },
  {
   "cell_type": "code",
   "execution_count": 4,
   "id": "b01b5fed",
   "metadata": {},
   "outputs": [],
   "source": [
    "s =\"ebcbbececabbacecbbcbe\""
   ]
  },
  {
   "cell_type": "code",
   "execution_count": 5,
   "id": "e3aabfdc",
   "metadata": {
    "scrolled": true
   },
   "outputs": [
    {
     "data": {
      "text/plain": [
       "True"
      ]
     },
     "execution_count": 5,
     "metadata": {},
     "output_type": "execute_result"
    }
   ],
   "source": [
    "validPalindrome(s)"
   ]
  },
  {
   "cell_type": "markdown",
   "id": "cc18618a",
   "metadata": {},
   "source": [
    "改进方法："
   ]
  },
  {
   "cell_type": "code",
   "execution_count": 6,
   "id": "f9bea3eb",
   "metadata": {},
   "outputs": [],
   "source": [
    "def validPalindrome(s):\n",
    "    # 辅助函数\n",
    "    def isPalindrome(i,j):\n",
    "        while i < j:\n",
    "            if s[i] != s[j]:\n",
    "                return False\n",
    "            i += 1\n",
    "            j -= 1\n",
    "        return True\n",
    "\n",
    "    n = len(s)\n",
    "    \n",
    "    i = 0\n",
    "    j = n-1\n",
    "    \n",
    "    while i < j:\n",
    "\n",
    "        if s[i] != s[j]:\n",
    "            # 单独验证子字段\n",
    "            return isPalindrome(i+1,j) or isPalindrome(i,j-1)\n",
    "        \n",
    "        i += 1\n",
    "        j -= 1\n",
    "    return True"
   ]
  },
  {
   "cell_type": "code",
   "execution_count": 7,
   "id": "9d1f6b0c",
   "metadata": {},
   "outputs": [],
   "source": [
    "s = \"abca\""
   ]
  },
  {
   "cell_type": "code",
   "execution_count": 8,
   "id": "50e9a1a4",
   "metadata": {},
   "outputs": [
    {
     "data": {
      "text/plain": [
       "True"
      ]
     },
     "execution_count": 8,
     "metadata": {},
     "output_type": "execute_result"
    }
   ],
   "source": [
    "validPalindrome(s)"
   ]
  },
  {
   "cell_type": "code",
   "execution_count": 9,
   "id": "6c724229",
   "metadata": {},
   "outputs": [],
   "source": [
    "s =\"ebcbbececabbacecbbcbe\""
   ]
  },
  {
   "cell_type": "code",
   "execution_count": 10,
   "id": "1eed284d",
   "metadata": {},
   "outputs": [
    {
     "data": {
      "text/plain": [
       "True"
      ]
     },
     "execution_count": 10,
     "metadata": {},
     "output_type": "execute_result"
    }
   ],
   "source": [
    "validPalindrome(s)"
   ]
  }
 ],
 "metadata": {
  "kernelspec": {
   "display_name": "Python 3 (ipykernel)",
   "language": "python",
   "name": "python3"
  },
  "language_info": {
   "codemirror_mode": {
    "name": "ipython",
    "version": 3
   },
   "file_extension": ".py",
   "mimetype": "text/x-python",
   "name": "python",
   "nbconvert_exporter": "python",
   "pygments_lexer": "ipython3",
   "version": "3.8.8"
  }
 },
 "nbformat": 4,
 "nbformat_minor": 5
}
