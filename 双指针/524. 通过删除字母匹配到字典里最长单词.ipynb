{
 "cells": [
  {
   "cell_type": "markdown",
   "id": "1d0d3441",
   "metadata": {},
   "source": [
    "给你一个字符串 `s` 和一个字符串数组 `dictionary` ，找出并返回 `dictionary` 中最长的字符串，该字符串可以通过删除 `s` 中的某些字符得到。\n",
    "\n",
    "如果答案不止一个，返回长度最长且字母序最小的字符串。如果答案不存在，则返回空字符串。"
   ]
  },
  {
   "cell_type": "code",
   "execution_count": 1,
   "id": "9828600e",
   "metadata": {},
   "outputs": [],
   "source": [
    "def findLongestWord(s,dictionary):\n",
    "    def checkSub(s,d):\n",
    "        i = -1\n",
    "        ns = len(s)\n",
    "        nd = len(d)\n",
    "\n",
    "        for j in range(nd):\n",
    "            i += 1\n",
    "            if i == ns:\n",
    "                return False\n",
    "            while s[i] != d[j]:\n",
    "                i += 1\n",
    "                if i == ns:\n",
    "                    return False\n",
    "\n",
    "        return True\n",
    "    \n",
    "    def smaller(a,b):\n",
    "        la = len(a)\n",
    "        for i in range(la):\n",
    "            if b[i] > a[i]:\n",
    "                return a\n",
    "            if b[i] < a[i]:\n",
    "                return b\n",
    "        return a\n",
    "    \n",
    "    n = len(dictionary)\n",
    "    max_l = 0\n",
    "    result = \"\"\n",
    "    for i in range(n):\n",
    "        if checkSub(s,dictionary[i]):\n",
    "            if len(dictionary[i])> max_l:\n",
    "                result = dictionary[i]\n",
    "                max_l = len(dictionary[i]) \n",
    "            if  len(dictionary[i]) == max_l and smaller(dictionary[i],result)== dictionary[i]:\n",
    "                result = dictionary[i]\n",
    "                max_l = len(dictionary[i]) \n",
    "    return result"
   ]
  },
  {
   "cell_type": "code",
   "execution_count": 2,
   "id": "a90e67f5",
   "metadata": {},
   "outputs": [],
   "source": [
    "s = \"abpcplea\"\n",
    "dictionary = [\"ale\",\"apple\",\"monkey\",\"plea\"]"
   ]
  },
  {
   "cell_type": "code",
   "execution_count": 3,
   "id": "fb07b63b",
   "metadata": {
    "scrolled": true
   },
   "outputs": [
    {
     "data": {
      "text/plain": [
       "'apple'"
      ]
     },
     "execution_count": 3,
     "metadata": {},
     "output_type": "execute_result"
    }
   ],
   "source": [
    "findLongestWord(s,dictionary)"
   ]
  },
  {
   "cell_type": "code",
   "execution_count": 4,
   "id": "92f16349",
   "metadata": {},
   "outputs": [],
   "source": [
    "s = \"abce\"\n",
    "dictionary = [\"abe\",\"abc\"]"
   ]
  },
  {
   "cell_type": "code",
   "execution_count": 5,
   "id": "29642f74",
   "metadata": {},
   "outputs": [
    {
     "data": {
      "text/plain": [
       "'abc'"
      ]
     },
     "execution_count": 5,
     "metadata": {},
     "output_type": "execute_result"
    }
   ],
   "source": [
    "findLongestWord(s,dictionary)"
   ]
  },
  {
   "cell_type": "code",
   "execution_count": 6,
   "id": "9fa3aa86",
   "metadata": {},
   "outputs": [],
   "source": [
    "s=\"bab\"\n",
    "dictionary=[\"ba\",\"ab\",\"a\",\"b\"]"
   ]
  },
  {
   "cell_type": "code",
   "execution_count": 7,
   "id": "add75b7b",
   "metadata": {},
   "outputs": [
    {
     "data": {
      "text/plain": [
       "'ab'"
      ]
     },
     "execution_count": 7,
     "metadata": {},
     "output_type": "execute_result"
    }
   ],
   "source": [
    "findLongestWord(s,dictionary)"
   ]
  },
  {
   "cell_type": "markdown",
   "id": "f9ceafb2",
   "metadata": {},
   "source": [
    "### 改进方法："
   ]
  },
  {
   "cell_type": "code",
   "execution_count": 8,
   "id": "1e9d11cd",
   "metadata": {},
   "outputs": [],
   "source": [
    "def findLongestWord(s, dictionary) -> str:\n",
    "    res = \"\"\n",
    "    for t in dictionary:\n",
    "        i = j = 0\n",
    "        # 双指针还是用while循环更方便，因为有明确的终止条件以及特殊index增长方式\n",
    "        while i < len(t) and j < len(s):\n",
    "            if t[i] == s[j]:\n",
    "                i += 1\n",
    "            # 无论是否匹配上s的index都会增长\n",
    "            j += 1\n",
    "        if i == len(t):\n",
    "            # 结果相同时，用or来合并两个判断语句\n",
    "            if len(t) > len(res) or (len(t) == len(res) and t < res):\n",
    "                res = t\n",
    "    return res"
   ]
  },
  {
   "cell_type": "markdown",
   "id": "4f422bab",
   "metadata": {},
   "source": [
    "直接用`>` `<`比较字符串的字母顺序！\n",
    "\n",
    "#### 双指针还是用while循环更方便，因为有明确的终止条件以及特殊index增长方式"
   ]
  }
 ],
 "metadata": {
  "kernelspec": {
   "display_name": "Python 3 (ipykernel)",
   "language": "python",
   "name": "python3"
  },
  "language_info": {
   "codemirror_mode": {
    "name": "ipython",
    "version": 3
   },
   "file_extension": ".py",
   "mimetype": "text/x-python",
   "name": "python",
   "nbconvert_exporter": "python",
   "pygments_lexer": "ipython3",
   "version": "3.8.8"
  }
 },
 "nbformat": 4,
 "nbformat_minor": 5
}
