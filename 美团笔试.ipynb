{
 "cells": [
  {
   "cell_type": "code",
   "execution_count": 15,
   "id": "dd8e00e5",
   "metadata": {
    "scrolled": true
   },
   "outputs": [
    {
     "name": "stdout",
     "output_type": "stream",
     "text": [
      "23 43\n",
      "66.00\n"
     ]
    }
   ],
   "source": [
    "a= list(map(float,input().split()))\n",
    "res=a[0]+a[1]\n",
    "print(\"%.2f\"% res)"
   ]
  },
  {
   "cell_type": "code",
   "execution_count": 17,
   "id": "d7de1eb2",
   "metadata": {},
   "outputs": [
    {
     "ename": "NameError",
     "evalue": "name 'add' is not defined",
     "output_type": "error",
     "traceback": [
      "\u001b[0;31m---------------------------------------------------------------------------\u001b[0m",
      "\u001b[0;31mNameError\u001b[0m                                 Traceback (most recent call last)",
      "\u001b[0;32m/var/folders/ck/pdl7qt095vx4np664bkl32680000gn/T/ipykernel_11618/1874807013.py\u001b[0m in \u001b[0;36m<module>\u001b[0;34m\u001b[0m\n\u001b[0;32m----> 1\u001b[0;31m \u001b[0madd\u001b[0m\u001b[0;34m(\u001b[0m\u001b[0;34m[\u001b[0m\u001b[0;36m1\u001b[0m\u001b[0;34m,\u001b[0m\u001b[0;36m2\u001b[0m\u001b[0;34m]\u001b[0m\u001b[0;34m)\u001b[0m\u001b[0;34m\u001b[0m\u001b[0;34m\u001b[0m\u001b[0m\n\u001b[0m",
      "\u001b[0;31mNameError\u001b[0m: name 'add' is not defined"
     ]
    }
   ],
   "source": [
    "add([1,2])"
   ]
  },
  {
   "cell_type": "code",
   "execution_count": 36,
   "id": "01d06bb2",
   "metadata": {},
   "outputs": [
    {
     "name": "stdout",
     "output_type": "stream",
     "text": [
      "3\n",
      "23 34 45\n",
      "20 30 40\n",
      "2\n",
      "30 40\n",
      "3 6\n",
      "i: 0\n",
      "j: 2\n",
      "choice: ['Z']\n",
      "i: 1\n",
      "j: 1\n",
      "choice: ['Z', 'Z']\n",
      "i: 2\n",
      "j: 1\n",
      "choice: ['Z', 'Z', 'Z']\n",
      "ZZZ\n"
     ]
    }
   ],
   "source": [
    "n = int(input())\n",
    "\n",
    "ori_pri = list(map(int,input().split()))\n",
    "\n",
    "dis_pri = list(map(int,input().split()))\n",
    "\n",
    "m = int(input())\n",
    "\n",
    "c = list(map(int,input().split()))\n",
    "\n",
    "d = list(map(int,input().split()))\n",
    "\n",
    "total = []\n",
    "pri=0\n",
    "for i in range(n):\n",
    "    pri = pri + ori_pri[i]\n",
    "    total.append(pri)\n",
    "    \n",
    "dis = []\n",
    "pri=0\n",
    "for i in range(n):\n",
    "    pri = pri + dis_pri[i]\n",
    "    dis.append(pri)\n",
    "\n",
    "choice = []\n",
    "for i in range(n):\n",
    "    for j in range(1,m+1):\n",
    "        if len(choice)==i+1:\n",
    "            break\n",
    "        if total[i] >= c[-j]:\n",
    "            red = total[i] - d[-j]\n",
    "            if red < dis[i]:\n",
    "                choice.append('M')\n",
    "            elif red > dis[i]:\n",
    "                choice.append('Z')\n",
    "            else:\n",
    "                choice.append('B')\n",
    "            print(\"i:\",i)\n",
    "            print(\"j:\",j)\n",
    "            print(\"choice:\",choice)\n",
    "            break\n",
    "        if j==m:\n",
    "            print(\"i:\",i)\n",
    "            print(\"j:\",j)\n",
    "            \n",
    "            if total[i]==dis[i]:\n",
    "                choice.append('B')\n",
    "            else:\n",
    "                choice.append('Z')\n",
    "            print(\"choice:\",choice)\n",
    "            break\n",
    "\n",
    "S = \"\".join(choice)\n",
    "print(S)"
   ]
  },
  {
   "cell_type": "code",
   "execution_count": 43,
   "id": "63f634cc",
   "metadata": {},
   "outputs": [
    {
     "name": "stdout",
     "output_type": "stream",
     "text": [
      "dwdw\n"
     ]
    }
   ],
   "source": [
    "s = list(input())"
   ]
  },
  {
   "cell_type": "code",
   "execution_count": 44,
   "id": "73e363b8",
   "metadata": {},
   "outputs": [
    {
     "data": {
      "text/plain": [
       "['d', 'w', 'd', 'w']"
      ]
     },
     "execution_count": 44,
     "metadata": {},
     "output_type": "execute_result"
    }
   ],
   "source": [
    "s"
   ]
  },
  {
   "cell_type": "code",
   "execution_count": 46,
   "id": "0018b0f6",
   "metadata": {},
   "outputs": [
    {
     "data": {
      "text/plain": [
       "1"
      ]
     },
     "execution_count": 46,
     "metadata": {},
     "output_type": "execute_result"
    }
   ],
   "source": [
    "import math\n",
    "math.ceil(2/2)"
   ]
  },
  {
   "cell_type": "code",
   "execution_count": 51,
   "id": "fcd86fc1",
   "metadata": {},
   "outputs": [],
   "source": [
    "c=list(range(5))\n",
    "c[3]=5"
   ]
  },
  {
   "cell_type": "code",
   "execution_count": 52,
   "id": "67447f91",
   "metadata": {},
   "outputs": [
    {
     "data": {
      "text/plain": [
       "[0, 1, 2, 5, 4]"
      ]
     },
     "execution_count": 52,
     "metadata": {},
     "output_type": "execute_result"
    }
   ],
   "source": [
    "c"
   ]
  },
  {
   "cell_type": "code",
   "execution_count": 58,
   "id": "0e4766a1",
   "metadata": {},
   "outputs": [
    {
     "name": "stdout",
     "output_type": "stream",
     "text": [
      "7 2\n",
      "4352617\n",
      "1234567\n"
     ]
    }
   ],
   "source": [
    "import math\n",
    "d = list(map(int,input().split()))\n",
    "\n",
    "s = list(input())\n",
    "\n",
    "n = d[0]\n",
    "\n",
    "op = d[1]\n",
    "\n",
    "\n",
    "if op==1:\n",
    "    t = list(range(n))\n",
    "    s1 = s\n",
    "    for i in range(n):\n",
    "        l = len(s1)\n",
    "        t[i] = s1[math.ceil(l/2)-1]\n",
    "        s1.pop(math.ceil(l/2)-1)\n",
    "    T =\"\".join(t)\n",
    "    print(T)\n",
    "\n",
    "if op==2:\n",
    "    t = s\n",
    "    s1 = []\n",
    "    for i in range(1,n+1):\n",
    "        s1.insert(math.ceil(i/2)-1,t[-i])\n",
    "    S =\"\".join(s1)\n",
    "    print(S)"
   ]
  }
 ],
 "metadata": {
  "kernelspec": {
   "display_name": "Python 3 (ipykernel)",
   "language": "python",
   "name": "python3"
  },
  "language_info": {
   "codemirror_mode": {
    "name": "ipython",
    "version": 3
   },
   "file_extension": ".py",
   "mimetype": "text/x-python",
   "name": "python",
   "nbconvert_exporter": "python",
   "pygments_lexer": "ipython3",
   "version": "3.8.8"
  },
  "toc": {
   "base_numbering": 1,
   "nav_menu": {},
   "number_sections": true,
   "sideBar": true,
   "skip_h1_title": false,
   "title_cell": "Table of Contents",
   "title_sidebar": "Contents",
   "toc_cell": false,
   "toc_position": {},
   "toc_section_display": true,
   "toc_window_display": false
  }
 },
 "nbformat": 4,
 "nbformat_minor": 5
}
