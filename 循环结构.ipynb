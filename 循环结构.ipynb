{
 "cells": [
  {
   "cell_type": "markdown",
   "id": "638754ed",
   "metadata": {},
   "source": [
    "# 循环结构"
   ]
  },
  {
   "cell_type": "markdown",
   "id": "4e778b9f",
   "metadata": {},
   "source": [
    "### range: range(start, end, step)"
   ]
  },
  {
   "cell_type": "markdown",
   "id": "11d55b6e",
   "metadata": {},
   "source": [
    "### break: 提前结束循环"
   ]
  },
  {
   "cell_type": "markdown",
   "id": "7fc90159",
   "metadata": {},
   "source": [
    "### continue: 放弃本次循环的后续代码，直接进入下一个循环"
   ]
  },
  {
   "cell_type": "markdown",
   "id": "f4e5d3af",
   "metadata": {},
   "source": [
    "# 字符串 "
   ]
  },
  {
   "cell_type": "code",
   "execution_count": 11,
   "id": "d7a4cd9a",
   "metadata": {},
   "outputs": [],
   "source": [
    "# 以三个双引号或单引号开头的字符串可以折行\n",
    "s3= '''\n",
    "hello,\n",
    "world!\n",
    "'''"
   ]
  },
  {
   "cell_type": "code",
   "execution_count": 13,
   "id": "6bfd0d86",
   "metadata": {},
   "outputs": [
    {
     "data": {
      "text/plain": [
       "'\\nhello,\\nworld!\\n'"
      ]
     },
     "execution_count": 13,
     "metadata": {},
     "output_type": "execute_result"
    }
   ],
   "source": [
    "s3"
   ]
  },
  {
   "cell_type": "code",
   "execution_count": 10,
   "id": "c76c1c28",
   "metadata": {
    "scrolled": true
   },
   "outputs": [
    {
     "name": "stdout",
     "output_type": "stream",
     "text": [
      "\n",
      "hello,\n",
      "world!\n"
     ]
    }
   ],
   "source": [
    "# print函数中的end=''表示输出后不换行，即将默认的结束符\\n（换行符）更换为''（空字符）。\n",
    "print(s3, end=\"\")"
   ]
  },
  {
   "cell_type": "markdown",
   "id": "035e9d35",
   "metadata": {},
   "source": [
    "## 转义字符 "
   ]
  },
  {
   "cell_type": "markdown",
   "id": "03004d81",
   "metadata": {},
   "source": [
    "可以在字符串中使用\\（反斜杠）来表示转义，也就是说\\后面的字符不再是它原来的意义，例如：\\n不是代表反斜杠和字符n，而是表示换行；\\t也不是代表反斜杠和字符t，而是表示制表符。所以如果字符串本身又包含了'、\"、\\这些特殊的字符，必须要通过\\进行转义处理。例如要输出一个带单引号或反斜杠的字符串，需要用如下所示的方法"
   ]
  },
  {
   "cell_type": "code",
   "execution_count": 14,
   "id": "af5c2fd2",
   "metadata": {},
   "outputs": [
    {
     "name": "stdout",
     "output_type": "stream",
     "text": [
      "'hello, world!'\n",
      "\\hello, world!\\\n"
     ]
    }
   ],
   "source": [
    "s1 = '\\'hello, world!\\''\n",
    "print(s1)\n",
    "s2 = '\\\\hello, world!\\\\'\n",
    "print(s2)"
   ]
  },
  {
   "cell_type": "markdown",
   "id": "b32f824e",
   "metadata": {},
   "source": [
    "## 原始字符串"
   ]
  },
  {
   "cell_type": "markdown",
   "id": "a28ba552",
   "metadata": {},
   "source": [
    "Python中的字符串可以r或R开头，这种字符串被称为原始字符串，意思是字符串中的每个字符都是它本来的含义，没有所谓的转义字符。例如，在字符串 **'hello\\n'**中，\\n表示换行；而在r'hello\\n'中，\\n不再表示换行，就是反斜杠和字符n。大家可以运行下面的代码，看看会输出什么。"
   ]
  },
  {
   "cell_type": "code",
   "execution_count": 16,
   "id": "e2f0d34a",
   "metadata": {},
   "outputs": [
    {
     "name": "stdout",
     "output_type": "stream",
     "text": [
      "\time up \n",
      "ow\n",
      "\n",
      "\\time up \\now\n"
     ]
    }
   ],
   "source": [
    "# 字符串s1中\\t是制表符，\\n是换行符\n",
    "s1 = '\\time up \\now'\n",
    "print(s1)\n",
    "# 字符串s2中没有转义字符，每个字符都是原始含义\n",
    "print()\n",
    "s2 = r'\\time up \\now'\n",
    "print(s2)"
   ]
  },
  {
   "cell_type": "markdown",
   "id": "08e7bae0",
   "metadata": {},
   "source": [
    "## 运算符"
   ]
  },
  {
   "cell_type": "markdown",
   "id": "e09539cf",
   "metadata": {},
   "source": [
    "### 拼接（+）和重复（*） "
   ]
  },
  {
   "cell_type": "code",
   "execution_count": 17,
   "id": "f3a1dc7b",
   "metadata": {},
   "outputs": [
    {
     "name": "stdout",
     "output_type": "stream",
     "text": [
      "hello world\n",
      "!!!\n",
      "hello world!!!\n",
      "hello world!!!hello world!!!\n"
     ]
    }
   ],
   "source": [
    "s1 = 'hello' + ' ' + 'world'\n",
    "print(s1)    # hello world\n",
    "s2 = '!' * 3\n",
    "print(s2)    # !!!\n",
    "s1 += s2     # s1 = s1 + s2\n",
    "print(s1)    # hello world!!!\n",
    "s1 *= 2      # s1 = s1 * 2\n",
    "print(s1)    # hello world!!!hello world!!!"
   ]
  },
  {
   "cell_type": "markdown",
   "id": "e6d2a869",
   "metadata": {},
   "source": [
    "### 比较运算"
   ]
  },
  {
   "cell_type": "code",
   "execution_count": 18,
   "id": "0b034c6a",
   "metadata": {},
   "outputs": [
    {
     "name": "stdout",
     "output_type": "stream",
     "text": [
      "False True\n",
      "True\n",
      "False\n",
      "True\n",
      "39558 26122\n",
      "29579 22823 38180\n",
      "True False\n"
     ]
    }
   ],
   "source": [
    "s1 = 'a whole new world'\n",
    "s2 = 'hello world'\n",
    "print(s1 == s2, s1 < s2)      # False True\n",
    "print(s2 == 'hello world')    # True\n",
    "print(s2 == 'Hello world')    # False\n",
    "print(s2 != 'Hello world')    # True\n",
    "s3 = '骆昊'\n",
    "# 如果不清楚两个字符对应的编码到底是多少，可以使用ord函数来获得\n",
    "print(ord('骆'), ord('昊'))               # 39558 26122\n",
    "s4 = '王大锤'\n",
    "print(ord('王'), ord('大'), ord('锤'))    # 29579 22823 38180\n",
    "print(s3 > s4, s3 <= s4)      # True False"
   ]
  },
  {
   "cell_type": "markdown",
   "id": "e98a54b2",
   "metadata": {},
   "source": [
    "### is( )  用is来比较两个字符串，它比较的是两个变量对应的字符串对象的内存地址"
   ]
  },
  {
   "cell_type": "code",
   "execution_count": 19,
   "id": "1b4ca895",
   "metadata": {},
   "outputs": [
    {
     "name": "stdout",
     "output_type": "stream",
     "text": [
      "True True\n",
      "False True\n"
     ]
    }
   ],
   "source": [
    "s1 = 'hello world'\n",
    "s2 = 'hello world'\n",
    "s3 = s2\n",
    "# 比较字符串的内容\n",
    "print(s1 == s2, s2 == s3)    # True True\n",
    "# 比较字符串的内存地址\n",
    "print(s1 is s2, s2 is s3)    # False True"
   ]
  },
  {
   "cell_type": "markdown",
   "id": "d5001050",
   "metadata": {},
   "source": [
    "### 成员运算（in，not in）"
   ]
  },
  {
   "cell_type": "code",
   "execution_count": 20,
   "id": "730086cf",
   "metadata": {},
   "outputs": [
    {
     "name": "stdout",
     "output_type": "stream",
     "text": [
      "True\n",
      "False\n"
     ]
    }
   ],
   "source": [
    "s1 = 'hello, world'\n",
    "print('wo' in s1)    # True\n",
    "s2 = 'goodbye'\n",
    "print(s2 in s1)      # False"
   ]
  },
  {
   "cell_type": "markdown",
   "id": "7df3fd2d",
   "metadata": {},
   "source": [
    "### 获取字符串长度（len）"
   ]
  },
  {
   "cell_type": "markdown",
   "id": "90f0f039",
   "metadata": {},
   "source": [
    "### 索引和切片"
   ]
  },
  {
   "cell_type": "markdown",
   "id": "9abc6888",
   "metadata": {},
   "source": [
    "因为字符串是不可变类型，所以不能通过索引运算修改字符串中的字符。"
   ]
  },
  {
   "cell_type": "code",
   "execution_count": 23,
   "id": "58c67fc3",
   "metadata": {},
   "outputs": [
    {
     "name": "stdout",
     "output_type": "stream",
     "text": [
      "a a\n",
      "6 6\n",
      "c c\n",
      "3 3\n"
     ]
    }
   ],
   "source": [
    "s = 'abc123456'\n",
    "N = len(s)\n",
    "\n",
    "# 获取第一个字符\n",
    "print(s[0], s[-N])    # a a\n",
    "\n",
    "# 获取最后一个字符\n",
    "print(s[N-1], s[-1])  # 6 6\n",
    "\n",
    "# 获取索引为2或-7的字符\n",
    "print(s[2], s[-7])    # c c\n",
    "\n",
    "# 获取索引为5和-4的字符\n",
    "print(s[5], s[-4])    # 3 3"
   ]
  },
  {
   "cell_type": "markdown",
   "id": "e0957f3c",
   "metadata": {},
   "source": [
    "如果要从字符串中取出多个字符，我们可以对字符串进行切片，运算符是[i:j:k]，其中i是开始索引，索引对应的字符可以取到；j是结束索引，索引对应的字符不能取到；k是步长，默认值为1"
   ]
  },
  {
   "cell_type": "code",
   "execution_count": 24,
   "id": "f6f716dd",
   "metadata": {},
   "outputs": [
    {
     "name": "stdout",
     "output_type": "stream",
     "text": [
      "c12\n",
      "c12\n",
      "c123456\n",
      "c123456\n",
      "c246\n",
      "c246\n",
      "ac246\n",
      "b135\n",
      "54321c\n",
      "54321c\n",
      "54321cba\n",
      "654321c\n",
      "abc123456\n",
      "ac246\n",
      "654321cba\n",
      "642ca\n"
     ]
    }
   ],
   "source": [
    "s = 'abc123456'\n",
    "\n",
    "# i=2, j=5, k=1的正向切片操作\n",
    "print(s[2:5])       # c12\n",
    "\n",
    "# i=-7, j=-4, k=1的正向切片操作\n",
    "print(s[-7:-4])     # c12\n",
    "\n",
    "# i=2, j=9, k=1的正向切片操作\n",
    "print(s[2:])        # c123456\n",
    "\n",
    "# i=-7, j=9, k=1的正向切片操作\n",
    "print(s[-7:])       # c123456\n",
    "\n",
    "# i=2, j=9, k=2的正向切片操作\n",
    "print(s[2::2])      # c246\n",
    "\n",
    "# i=-7, j=9, k=2的正向切片操作\n",
    "print(s[-7::2])     # c246\n",
    "\n",
    "# i=0, j=9, k=2的正向切片操作\n",
    "print(s[::2])       # ac246\n",
    "\n",
    "# i=1, j=-1, k=2的正向切片操作\n",
    "print(s[1:-1:2])    # b135\n",
    "\n",
    "# i=7, j=1, k=-1的负向切片操作\n",
    "print(s[7:1:-1])    # 54321c\n",
    "\n",
    "# i=-2, j=-8, k=-1的负向切片操作\n",
    "print(s[-2:-8:-1])  # 54321c\n",
    "\n",
    "# i=7, j=-10, k=-1的负向切片操作\n",
    "print(s[7::-1])     # 54321cba\n",
    "\n",
    "# i=-1, j=1, k=-1的负向切片操作\n",
    "print(s[:1:-1])     # 654321c\n",
    "\n",
    "# i=0, j=9, k=1的正向切片\n",
    "print(s[:])         # abc123456\n",
    "\n",
    "# i=0, j=9, k=2的正向切片\n",
    "print(s[::2])       # ac246\n",
    "\n",
    "# i=-1, j=-10, k=-1的负向切片\n",
    "print(s[::-1])      # 654321cba\n",
    "\n",
    "# i=-1, j=-10, k=-2的负向切片\n",
    "print(s[::-2])      # 642ca"
   ]
  },
  {
   "cell_type": "markdown",
   "id": "be9a69df",
   "metadata": {},
   "source": [
    "### 遍历 "
   ]
  },
  {
   "cell_type": "code",
   "execution_count": 25,
   "id": "ae053f41",
   "metadata": {},
   "outputs": [
    {
     "name": "stdout",
     "output_type": "stream",
     "text": [
      "h\n",
      "e\n",
      "l\n",
      "l\n",
      "o\n"
     ]
    }
   ],
   "source": [
    "s1 = 'hello'\n",
    "for index in range(len(s1)):\n",
    "    print(s1[index])"
   ]
  },
  {
   "cell_type": "code",
   "execution_count": 26,
   "id": "1e9ece6e",
   "metadata": {},
   "outputs": [
    {
     "name": "stdout",
     "output_type": "stream",
     "text": [
      "h\n",
      "e\n",
      "l\n",
      "l\n",
      "o\n"
     ]
    }
   ],
   "source": [
    "s1 = 'hello'\n",
    "for ch in s1:\n",
    "    print(ch)"
   ]
  },
  {
   "cell_type": "markdown",
   "id": "454e1f50",
   "metadata": {},
   "source": [
    "## 方法"
   ]
  },
  {
   "cell_type": "markdown",
   "id": "49eeba72",
   "metadata": {},
   "source": [
    "### 大小写相关操作"
   ]
  },
  {
   "cell_type": "code",
   "execution_count": null,
   "id": "552566d0",
   "metadata": {},
   "outputs": [],
   "source": [
    "s1 = 'hello, world!'\n",
    "\n",
    "# 使用capitalize方法获得字符串首字母大写后的字符串\n",
    "print(s1.capitalize())   # Hello, world!\n",
    "# 使用title方法获得字符串每个单词首字母大写后的字符串\n",
    "print(s1.title())        # Hello, World!\n",
    "# 使用upper方法获得字符串大写后的字符串\n",
    "print(s1.upper())        # HELLO, WORLD!\n",
    "\n",
    "s2 = 'GOODBYE'\n",
    "# 使用lower方法获得字符串小写后的字符串\n",
    "print(s2.lower())        # goodbye"
   ]
  },
  {
   "cell_type": "markdown",
   "id": "7ed60a8b",
   "metadata": {},
   "source": [
    "# 列表"
   ]
  },
  {
   "cell_type": "markdown",
   "id": "c5f7cd75",
   "metadata": {},
   "source": [
    "## 定义：1. [ ]     2. list( ) "
   ]
  },
  {
   "cell_type": "markdown",
   "id": "72899c9a",
   "metadata": {},
   "source": [
    "## 运算符"
   ]
  },
  {
   "cell_type": "markdown",
   "id": "cb4c3b95",
   "metadata": {},
   "source": [
    "### 拼接 "
   ]
  },
  {
   "cell_type": "code",
   "execution_count": null,
   "id": "aab2d0af",
   "metadata": {},
   "outputs": [],
   "source": []
  }
 ],
 "metadata": {
  "kernelspec": {
   "display_name": "Python 3 (ipykernel)",
   "language": "python",
   "name": "python3"
  },
  "language_info": {
   "codemirror_mode": {
    "name": "ipython",
    "version": 3
   },
   "file_extension": ".py",
   "mimetype": "text/x-python",
   "name": "python",
   "nbconvert_exporter": "python",
   "pygments_lexer": "ipython3",
   "version": "3.8.8"
  },
  "toc": {
   "base_numbering": 1,
   "nav_menu": {},
   "number_sections": true,
   "sideBar": true,
   "skip_h1_title": false,
   "title_cell": "Table of Contents",
   "title_sidebar": "Contents",
   "toc_cell": false,
   "toc_position": {},
   "toc_section_display": true,
   "toc_window_display": false
  }
 },
 "nbformat": 4,
 "nbformat_minor": 5
}
